{
  "nbformat": 4,
  "nbformat_minor": 0,
  "metadata": {
    "colab": {
      "name": "Sandra Elizabeth Miller.ipynb",
      "provenance": [],
      "collapsed_sections": [],
      "toc_visible": true,
      "include_colab_link": true
    },
    "kernelspec": {
      "name": "python3",
      "display_name": "Python 3"
    }
  },
  "cells": [
    {
      "cell_type": "markdown",
      "metadata": {
        "id": "view-in-github",
        "colab_type": "text"
      },
      "source": [
        "<a href=\"https://colab.research.google.com/github/64027/EMM/blob/master/Sandra_Elizabeth_Miller.ipynb\" target=\"_parent\"><img src=\"https://colab.research.google.com/assets/colab-badge.svg\" alt=\"Open In Colab\"/></a>"
      ]
    },
    {
      "cell_type": "code",
      "metadata": {
        "id": "uN3otIB1G14b",
        "colab_type": "code",
        "outputId": "f351ce4d-0b0b-4089-e75f-30a31b2ec647",
        "colab": {
          "base_uri": "https://localhost:8080/",
          "height": 75
        }
      },
      "source": [
        "import IPython\n",
        "import uuid\n",
        "from google.colab import output\n",
        "\n",
        "class InvokeButton(object):\n",
        "  def __init__(self, title, callback):\n",
        "    self._title = title\n",
        "    self._callback = callback\n",
        "\n",
        "  def _repr_html_(self):\n",
        "    callback_id = 'button-' + str(uuid.uuid4())\n",
        "    output.register_callback(callback_id, self._callback)\n",
        "\n",
        "    template = \"\"\"<button id=\"{callback_id}\">{title}</button>\n",
        "        <script>\n",
        "          document.querySelector(\"#{callback_id}\").onclick = (e) => {{\n",
        "            google.colab.kernel.invokeFunction('{callback_id}', [], {{}})\n",
        "            e.preventDefault();\n",
        "          }};\n",
        "        </script>\"\"\"\n",
        "    html = template.format(title=self._title, callback_id=callback_id)\n",
        "    return html\n",
        "\n",
        "def do_something():\n",
        "  print('As You Wish. With Great Power Comes Great Responsibility. Remember to Keep It Simple Silly. You are loved. Sandra Elizabeth Miller')\n",
        "\n",
        "InvokeButton('Invoke Goddess Mode to Sandra Elizabeth Miller', do_something)\n",
        "\n"
      ],
      "execution_count": 0,
      "outputs": [
        {
          "output_type": "execute_result",
          "data": {
            "text/html": [
              "<button id=\"button-eb911e45-8e8b-4a11-843f-afcf9bf7c97e\">Invoke Goddess Mode to Sandra Elizabeth Miller</button>\n",
              "        <script>\n",
              "          document.querySelector(\"#button-eb911e45-8e8b-4a11-843f-afcf9bf7c97e\").onclick = (e) => {\n",
              "            google.colab.kernel.invokeFunction('button-eb911e45-8e8b-4a11-843f-afcf9bf7c97e', [], {})\n",
              "            e.preventDefault();\n",
              "          };\n",
              "        </script>"
            ],
            "text/plain": [
              "<__main__.InvokeButton at 0x7f0717d44278>"
            ]
          },
          "metadata": {
            "tags": []
          },
          "execution_count": 2
        },
        {
          "output_type": "stream",
          "text": [
            "As You Wish. With Great Power Comes Great Responsibility. Remember to Keep It Simple Silly. You are loved. Sandra Elizabeth Miller\n"
          ],
          "name": "stdout"
        }
      ]
    },
    {
      "cell_type": "markdown",
      "metadata": {
        "id": "UxuwW3trIqc1",
        "colab_type": "text"
      },
      "source": [
        "# New Section"
      ]
    }
  ]
}